{
 "cells": [
  {
   "cell_type": "code",
   "execution_count": 87,
   "metadata": {},
   "outputs": [],
   "source": [
    "import pandas as pd\n",
    "import numpy as np\n",
    "from config import db_password\n",
    "import seaborn as sns\n",
    "import matplotlib.pyplot as plt\n",
    "sns.set_palette('Dark2')\n",
    "\n",
    "# Initial imports.\n",
    "import pandas as pd\n",
    "from sklearn.neighbors import KNeighborsClassifier \n",
    "from sklearn.ensemble import RandomForestClassifier, GradientBoostingClassifier\n",
    "from sklearn.preprocessing import StandardScaler, LabelEncoder\n",
    "from sklearn.model_selection import train_test_split, cross_val_score\n",
    "from sklearn.metrics import classification_report, confusion_matrix"
   ]
  },
  {
   "cell_type": "code",
   "execution_count": 59,
   "metadata": {},
   "outputs": [],
   "source": [
    "# create database connection\n",
    "import psycopg2\n",
    "connection = psycopg2.connect(\n",
    "    host = 'projectanimal.c2jqqtcm0i1p.us-east-2.rds.amazonaws.com',\n",
    "    port = 5432,\n",
    "    user = 'postgres',\n",
    "    password = db_password,\n",
    "    database='projectanimal'\n",
    "    )\n",
    "cursor=connection.cursor()"
   ]
  },
  {
   "cell_type": "code",
   "execution_count": 60,
   "metadata": {},
   "outputs": [
    {
     "data": {
      "text/html": [
       "<div>\n",
       "<style scoped>\n",
       "    .dataframe tbody tr th:only-of-type {\n",
       "        vertical-align: middle;\n",
       "    }\n",
       "\n",
       "    .dataframe tbody tr th {\n",
       "        vertical-align: top;\n",
       "    }\n",
       "\n",
       "    .dataframe thead th {\n",
       "        text-align: right;\n",
       "    }\n",
       "</style>\n",
       "<table border=\"1\" class=\"dataframe\">\n",
       "  <thead>\n",
       "    <tr style=\"text-align: right;\">\n",
       "      <th></th>\n",
       "      <th>animal_id</th>\n",
       "      <th>name_intake</th>\n",
       "      <th>datetime_intake</th>\n",
       "      <th>found_location</th>\n",
       "      <th>intake_type</th>\n",
       "      <th>intake_condition</th>\n",
       "      <th>animal_type_intake</th>\n",
       "      <th>sex_intake</th>\n",
       "      <th>color_intake</th>\n",
       "      <th>breed_type</th>\n",
       "    </tr>\n",
       "  </thead>\n",
       "  <tbody>\n",
       "    <tr>\n",
       "      <th>0</th>\n",
       "      <td>A730601</td>\n",
       "      <td>No</td>\n",
       "      <td>2016-07-07 12:11:00</td>\n",
       "      <td>1109 Shady Ln,  Austin (TX)</td>\n",
       "      <td>Stray</td>\n",
       "      <td>Normal</td>\n",
       "      <td>Cat</td>\n",
       "      <td>Intact Male</td>\n",
       "      <td>Tabby</td>\n",
       "      <td>Mix</td>\n",
       "    </tr>\n",
       "    <tr>\n",
       "      <th>1</th>\n",
       "      <td>A683644</td>\n",
       "      <td>Yes</td>\n",
       "      <td>2014-07-13 11:02:00</td>\n",
       "      <td></td>\n",
       "      <td>Owner Surrender</td>\n",
       "      <td>Maternity</td>\n",
       "      <td>Dog</td>\n",
       "      <td>Intact Female</td>\n",
       "      <td>Brown</td>\n",
       "      <td>Herding Dogs</td>\n",
       "    </tr>\n",
       "    <tr>\n",
       "      <th>2</th>\n",
       "      <td>A676515</td>\n",
       "      <td>Yes</td>\n",
       "      <td>2014-04-11 08:45:00</td>\n",
       "      <td>615 E. Wonsley,  Austin (TX)</td>\n",
       "      <td>Stray</td>\n",
       "      <td>Normal</td>\n",
       "      <td>Dog</td>\n",
       "      <td>Intact Male</td>\n",
       "      <td>Brown</td>\n",
       "      <td>Bully Dogs</td>\n",
       "    </tr>\n",
       "    <tr>\n",
       "      <th>3</th>\n",
       "      <td>A742953</td>\n",
       "      <td>No</td>\n",
       "      <td>2017-01-31 13:30:00</td>\n",
       "      <td></td>\n",
       "      <td>Stray</td>\n",
       "      <td>Normal</td>\n",
       "      <td>Dog</td>\n",
       "      <td>Intact Male</td>\n",
       "      <td>Brown</td>\n",
       "      <td>Hound Dogs</td>\n",
       "    </tr>\n",
       "    <tr>\n",
       "      <th>4</th>\n",
       "      <td>A679549</td>\n",
       "      <td>Yes</td>\n",
       "      <td>2014-05-22 15:43:00</td>\n",
       "      <td>124 W Anderson,  Austin (TX)</td>\n",
       "      <td>Stray</td>\n",
       "      <td>Normal</td>\n",
       "      <td>Cat</td>\n",
       "      <td>Intact Male</td>\n",
       "      <td>Black</td>\n",
       "      <td>Mix</td>\n",
       "    </tr>\n",
       "  </tbody>\n",
       "</table>\n",
       "</div>"
      ],
      "text/plain": [
       "  animal_id name_intake     datetime_intake                found_location  \\\n",
       "0   A730601          No 2016-07-07 12:11:00   1109 Shady Ln,  Austin (TX)   \n",
       "1   A683644         Yes 2014-07-13 11:02:00                                 \n",
       "2   A676515         Yes 2014-04-11 08:45:00  615 E. Wonsley,  Austin (TX)   \n",
       "3   A742953          No 2017-01-31 13:30:00                                 \n",
       "4   A679549         Yes 2014-05-22 15:43:00  124 W Anderson,  Austin (TX)   \n",
       "\n",
       "       intake_type intake_condition animal_type_intake     sex_intake  \\\n",
       "0            Stray           Normal                Cat    Intact Male   \n",
       "1  Owner Surrender        Maternity                Dog  Intact Female   \n",
       "2            Stray           Normal                Dog    Intact Male   \n",
       "3            Stray           Normal                Dog    Intact Male   \n",
       "4            Stray           Normal                Cat    Intact Male   \n",
       "\n",
       "  color_intake    breed_type  \n",
       "0        Tabby           Mix  \n",
       "1        Brown  Herding Dogs  \n",
       "2        Brown    Bully Dogs  \n",
       "3        Brown    Hound Dogs  \n",
       "4        Black           Mix  "
      ]
     },
     "execution_count": 60,
     "metadata": {},
     "output_type": "execute_result"
    }
   ],
   "source": [
    "# import intake data\n",
    "sql = '''\n",
    "select * from animal_intake'''\n",
    "\n",
    "intake_df = pd.read_sql(sql,con=connection)\n",
    "intake_df.head()"
   ]
  },
  {
   "cell_type": "code",
   "execution_count": 61,
   "metadata": {},
   "outputs": [
    {
     "data": {
      "text/html": [
       "<div>\n",
       "<style scoped>\n",
       "    .dataframe tbody tr th:only-of-type {\n",
       "        vertical-align: middle;\n",
       "    }\n",
       "\n",
       "    .dataframe tbody tr th {\n",
       "        vertical-align: top;\n",
       "    }\n",
       "\n",
       "    .dataframe thead th {\n",
       "        text-align: right;\n",
       "    }\n",
       "</style>\n",
       "<table border=\"1\" class=\"dataframe\">\n",
       "  <thead>\n",
       "    <tr style=\"text-align: right;\">\n",
       "      <th></th>\n",
       "      <th>animal_id</th>\n",
       "      <th>datetime_outcome</th>\n",
       "      <th>outcome_type</th>\n",
       "      <th>sex_upon_outcome</th>\n",
       "      <th>fixed_changed</th>\n",
       "      <th>age_bucket</th>\n",
       "      <th>length_of_stay</th>\n",
       "    </tr>\n",
       "  </thead>\n",
       "  <tbody>\n",
       "    <tr>\n",
       "      <th>0</th>\n",
       "      <td>A730601</td>\n",
       "      <td>2016-07-08 09:00:00</td>\n",
       "      <td>Transfer</td>\n",
       "      <td>Neutered Male</td>\n",
       "      <td>1</td>\n",
       "      <td>7-12 months</td>\n",
       "      <td>0.8673611111111111</td>\n",
       "    </tr>\n",
       "    <tr>\n",
       "      <th>1</th>\n",
       "      <td>A683644</td>\n",
       "      <td>2014-11-06 10:06:00</td>\n",
       "      <td>Adoption</td>\n",
       "      <td>Spayed Female</td>\n",
       "      <td>1</td>\n",
       "      <td>1-6 weeks</td>\n",
       "      <td>115.96111111111111</td>\n",
       "    </tr>\n",
       "    <tr>\n",
       "      <th>2</th>\n",
       "      <td>A676515</td>\n",
       "      <td>2014-04-14 18:38:00</td>\n",
       "      <td>Return to Owner</td>\n",
       "      <td>Neutered Male</td>\n",
       "      <td>1</td>\n",
       "      <td>1-6 months</td>\n",
       "      <td>3.4118055555555555</td>\n",
       "    </tr>\n",
       "    <tr>\n",
       "      <th>3</th>\n",
       "      <td>A742953</td>\n",
       "      <td>2017-02-04 14:17:00</td>\n",
       "      <td>Transfer</td>\n",
       "      <td>Intact Male</td>\n",
       "      <td>0</td>\n",
       "      <td>1-3 years</td>\n",
       "      <td>4.032638888888889</td>\n",
       "    </tr>\n",
       "    <tr>\n",
       "      <th>4</th>\n",
       "      <td>A679549</td>\n",
       "      <td>2014-06-16 13:54:00</td>\n",
       "      <td>Transfer</td>\n",
       "      <td>Neutered Male</td>\n",
       "      <td>1</td>\n",
       "      <td>1-6 months</td>\n",
       "      <td>24.924305555555556</td>\n",
       "    </tr>\n",
       "  </tbody>\n",
       "</table>\n",
       "</div>"
      ],
      "text/plain": [
       "  animal_id    datetime_outcome     outcome_type sex_upon_outcome  \\\n",
       "0   A730601 2016-07-08 09:00:00         Transfer    Neutered Male   \n",
       "1   A683644 2014-11-06 10:06:00         Adoption    Spayed Female   \n",
       "2   A676515 2014-04-14 18:38:00  Return to Owner    Neutered Male   \n",
       "3   A742953 2017-02-04 14:17:00         Transfer      Intact Male   \n",
       "4   A679549 2014-06-16 13:54:00         Transfer    Neutered Male   \n",
       "\n",
       "  fixed_changed   age_bucket      length_of_stay  \n",
       "0             1  7-12 months  0.8673611111111111  \n",
       "1             1    1-6 weeks  115.96111111111111  \n",
       "2             1   1-6 months  3.4118055555555555  \n",
       "3             0    1-3 years   4.032638888888889  \n",
       "4             1   1-6 months  24.924305555555556  "
      ]
     },
     "execution_count": 61,
     "metadata": {},
     "output_type": "execute_result"
    }
   ],
   "source": [
    "# import outcome data\n",
    "sql = '''\n",
    "select * from animal_outcome'''\n",
    "\n",
    "outcome_df = pd.read_sql(sql,con=connection)\n",
    "outcome_df.head()"
   ]
  },
  {
   "cell_type": "code",
   "execution_count": 62,
   "metadata": {},
   "outputs": [
    {
     "data": {
      "text/html": [
       "<div>\n",
       "<style scoped>\n",
       "    .dataframe tbody tr th:only-of-type {\n",
       "        vertical-align: middle;\n",
       "    }\n",
       "\n",
       "    .dataframe tbody tr th {\n",
       "        vertical-align: top;\n",
       "    }\n",
       "\n",
       "    .dataframe thead th {\n",
       "        text-align: right;\n",
       "    }\n",
       "</style>\n",
       "<table border=\"1\" class=\"dataframe\">\n",
       "  <thead>\n",
       "    <tr style=\"text-align: right;\">\n",
       "      <th></th>\n",
       "      <th>animal_id</th>\n",
       "      <th>name_intake</th>\n",
       "      <th>datetime_intake</th>\n",
       "      <th>found_location</th>\n",
       "      <th>intake_type</th>\n",
       "      <th>intake_condition</th>\n",
       "      <th>animal_type_intake</th>\n",
       "      <th>sex_intake</th>\n",
       "      <th>color_intake</th>\n",
       "      <th>breed_type</th>\n",
       "      <th>datetime_outcome</th>\n",
       "      <th>outcome_type</th>\n",
       "      <th>sex_upon_outcome</th>\n",
       "      <th>fixed_changed</th>\n",
       "      <th>age_bucket</th>\n",
       "      <th>length_of_stay</th>\n",
       "    </tr>\n",
       "  </thead>\n",
       "  <tbody>\n",
       "    <tr>\n",
       "      <th>0</th>\n",
       "      <td>A730601</td>\n",
       "      <td>No</td>\n",
       "      <td>2016-07-07 12:11:00</td>\n",
       "      <td>1109 Shady Ln,  Austin (TX)</td>\n",
       "      <td>Stray</td>\n",
       "      <td>Normal</td>\n",
       "      <td>Cat</td>\n",
       "      <td>Intact Male</td>\n",
       "      <td>Tabby</td>\n",
       "      <td>Mix</td>\n",
       "      <td>2016-07-08 09:00:00</td>\n",
       "      <td>Transfer</td>\n",
       "      <td>Neutered Male</td>\n",
       "      <td>1</td>\n",
       "      <td>7-12 months</td>\n",
       "      <td>0.8673611111111111</td>\n",
       "    </tr>\n",
       "    <tr>\n",
       "      <th>1</th>\n",
       "      <td>A683644</td>\n",
       "      <td>Yes</td>\n",
       "      <td>2014-07-13 11:02:00</td>\n",
       "      <td></td>\n",
       "      <td>Owner Surrender</td>\n",
       "      <td>Maternity</td>\n",
       "      <td>Dog</td>\n",
       "      <td>Intact Female</td>\n",
       "      <td>Brown</td>\n",
       "      <td>Herding Dogs</td>\n",
       "      <td>2014-11-06 10:06:00</td>\n",
       "      <td>Adoption</td>\n",
       "      <td>Spayed Female</td>\n",
       "      <td>1</td>\n",
       "      <td>1-6 weeks</td>\n",
       "      <td>115.96111111111111</td>\n",
       "    </tr>\n",
       "    <tr>\n",
       "      <th>2</th>\n",
       "      <td>A676515</td>\n",
       "      <td>Yes</td>\n",
       "      <td>2014-04-11 08:45:00</td>\n",
       "      <td>615 E. Wonsley,  Austin (TX)</td>\n",
       "      <td>Stray</td>\n",
       "      <td>Normal</td>\n",
       "      <td>Dog</td>\n",
       "      <td>Intact Male</td>\n",
       "      <td>Brown</td>\n",
       "      <td>Bully Dogs</td>\n",
       "      <td>2014-04-14 18:38:00</td>\n",
       "      <td>Return to Owner</td>\n",
       "      <td>Neutered Male</td>\n",
       "      <td>1</td>\n",
       "      <td>1-6 months</td>\n",
       "      <td>3.4118055555555555</td>\n",
       "    </tr>\n",
       "    <tr>\n",
       "      <th>3</th>\n",
       "      <td>A742953</td>\n",
       "      <td>No</td>\n",
       "      <td>2017-01-31 13:30:00</td>\n",
       "      <td></td>\n",
       "      <td>Stray</td>\n",
       "      <td>Normal</td>\n",
       "      <td>Dog</td>\n",
       "      <td>Intact Male</td>\n",
       "      <td>Brown</td>\n",
       "      <td>Hound Dogs</td>\n",
       "      <td>2017-02-04 14:17:00</td>\n",
       "      <td>Transfer</td>\n",
       "      <td>Intact Male</td>\n",
       "      <td>0</td>\n",
       "      <td>1-3 years</td>\n",
       "      <td>4.032638888888889</td>\n",
       "    </tr>\n",
       "    <tr>\n",
       "      <th>4</th>\n",
       "      <td>A679549</td>\n",
       "      <td>Yes</td>\n",
       "      <td>2014-05-22 15:43:00</td>\n",
       "      <td>124 W Anderson,  Austin (TX)</td>\n",
       "      <td>Stray</td>\n",
       "      <td>Normal</td>\n",
       "      <td>Cat</td>\n",
       "      <td>Intact Male</td>\n",
       "      <td>Black</td>\n",
       "      <td>Mix</td>\n",
       "      <td>2014-06-16 13:54:00</td>\n",
       "      <td>Transfer</td>\n",
       "      <td>Neutered Male</td>\n",
       "      <td>1</td>\n",
       "      <td>1-6 months</td>\n",
       "      <td>24.924305555555556</td>\n",
       "    </tr>\n",
       "  </tbody>\n",
       "</table>\n",
       "</div>"
      ],
      "text/plain": [
       "  animal_id name_intake     datetime_intake                found_location  \\\n",
       "0   A730601          No 2016-07-07 12:11:00   1109 Shady Ln,  Austin (TX)   \n",
       "1   A683644         Yes 2014-07-13 11:02:00                                 \n",
       "2   A676515         Yes 2014-04-11 08:45:00  615 E. Wonsley,  Austin (TX)   \n",
       "3   A742953          No 2017-01-31 13:30:00                                 \n",
       "4   A679549         Yes 2014-05-22 15:43:00  124 W Anderson,  Austin (TX)   \n",
       "\n",
       "       intake_type intake_condition animal_type_intake     sex_intake  \\\n",
       "0            Stray           Normal                Cat    Intact Male   \n",
       "1  Owner Surrender        Maternity                Dog  Intact Female   \n",
       "2            Stray           Normal                Dog    Intact Male   \n",
       "3            Stray           Normal                Dog    Intact Male   \n",
       "4            Stray           Normal                Cat    Intact Male   \n",
       "\n",
       "  color_intake    breed_type    datetime_outcome     outcome_type  \\\n",
       "0        Tabby           Mix 2016-07-08 09:00:00         Transfer   \n",
       "1        Brown  Herding Dogs 2014-11-06 10:06:00         Adoption   \n",
       "2        Brown    Bully Dogs 2014-04-14 18:38:00  Return to Owner   \n",
       "3        Brown    Hound Dogs 2017-02-04 14:17:00         Transfer   \n",
       "4        Black           Mix 2014-06-16 13:54:00         Transfer   \n",
       "\n",
       "  sex_upon_outcome fixed_changed   age_bucket      length_of_stay  \n",
       "0    Neutered Male             1  7-12 months  0.8673611111111111  \n",
       "1    Spayed Female             1    1-6 weeks  115.96111111111111  \n",
       "2    Neutered Male             1   1-6 months  3.4118055555555555  \n",
       "3      Intact Male             0    1-3 years   4.032638888888889  \n",
       "4    Neutered Male             1   1-6 months  24.924305555555556  "
      ]
     },
     "execution_count": 62,
     "metadata": {},
     "output_type": "execute_result"
    }
   ],
   "source": [
    "# merge data\n",
    "df = intake_df.merge(outcome_df, on='animal_id', how='left')\n",
    "df.head()"
   ]
  },
  {
   "cell_type": "markdown",
   "metadata": {},
   "source": [
    "# Preprocessing Data"
   ]
  },
  {
   "cell_type": "code",
   "execution_count": 63,
   "metadata": {},
   "outputs": [
    {
     "data": {
      "text/plain": [
       "animal_id             0\n",
       "name_intake           0\n",
       "datetime_intake       0\n",
       "found_location        0\n",
       "intake_type           0\n",
       "intake_condition      0\n",
       "animal_type_intake    0\n",
       "sex_intake            0\n",
       "color_intake          0\n",
       "breed_type            0\n",
       "datetime_outcome      0\n",
       "outcome_type          0\n",
       "sex_upon_outcome      0\n",
       "fixed_changed         0\n",
       "age_bucket            0\n",
       "length_of_stay        0\n",
       "dtype: int64"
      ]
     },
     "execution_count": 63,
     "metadata": {},
     "output_type": "execute_result"
    }
   ],
   "source": [
    "# Check for null values\n",
    "df.isnull().sum()"
   ]
  },
  {
   "cell_type": "code",
   "execution_count": 64,
   "metadata": {},
   "outputs": [
    {
     "data": {
      "text/plain": [
       "0"
      ]
     },
     "execution_count": 64,
     "metadata": {},
     "output_type": "execute_result"
    }
   ],
   "source": [
    "# Check for duplicates rows\n",
    "count=0\n",
    "for i in df['animal_id'].duplicated():\n",
    "    if i is True:\n",
    "        count+=1\n",
    "count"
   ]
  },
  {
   "cell_type": "code",
   "execution_count": 65,
   "metadata": {},
   "outputs": [
    {
     "name": "stdout",
     "output_type": "stream",
     "text": [
      "<class 'pandas.core.frame.DataFrame'>\n",
      "Int64Index: 55771 entries, 0 to 55770\n",
      "Data columns (total 16 columns):\n",
      " #   Column              Non-Null Count  Dtype         \n",
      "---  ------              --------------  -----         \n",
      " 0   animal_id           55771 non-null  object        \n",
      " 1   name_intake         55771 non-null  object        \n",
      " 2   datetime_intake     55771 non-null  datetime64[ns]\n",
      " 3   found_location      55771 non-null  object        \n",
      " 4   intake_type         55771 non-null  object        \n",
      " 5   intake_condition    55771 non-null  object        \n",
      " 6   animal_type_intake  55771 non-null  object        \n",
      " 7   sex_intake          55771 non-null  object        \n",
      " 8   color_intake        55771 non-null  object        \n",
      " 9   breed_type          55771 non-null  object        \n",
      " 10  datetime_outcome    55771 non-null  datetime64[ns]\n",
      " 11  outcome_type        55771 non-null  object        \n",
      " 12  sex_upon_outcome    55771 non-null  object        \n",
      " 13  fixed_changed       55771 non-null  object        \n",
      " 14  age_bucket          55771 non-null  object        \n",
      " 15  length_of_stay      55771 non-null  object        \n",
      "dtypes: datetime64[ns](2), object(14)\n",
      "memory usage: 7.2+ MB\n"
     ]
    }
   ],
   "source": [
    "df.info()"
   ]
  },
  {
   "cell_type": "markdown",
   "metadata": {},
   "source": [
    "## Target Variable "
   ]
  },
  {
   "cell_type": "code",
   "execution_count": 66,
   "metadata": {},
   "outputs": [
    {
     "data": {
      "text/plain": [
       "Adoption           22267\n",
       "Transfer           18258\n",
       "Return to Owner     9380\n",
       "Euthanasia          5085\n",
       "Died                 781\n",
       "Name: outcome_type, dtype: int64"
      ]
     },
     "execution_count": 66,
     "metadata": {},
     "output_type": "execute_result"
    }
   ],
   "source": [
    "# review target values\n",
    "df.outcome_type.value_counts()"
   ]
  },
  {
   "cell_type": "code",
   "execution_count": 67,
   "metadata": {},
   "outputs": [],
   "source": [
    "# combine Euthanasia and Died as there are few values for Died\n",
    "df.loc[(df.outcome_type == 'Died') | (df.outcome_type == 'Euthanasia'), 'outcome_type'] = 'Died'"
   ]
  },
  {
   "cell_type": "code",
   "execution_count": 68,
   "metadata": {},
   "outputs": [
    {
     "data": {
      "text/plain": [
       "<AxesSubplot:xlabel='outcome_type', ylabel='count'>"
      ]
     },
     "execution_count": 68,
     "metadata": {},
     "output_type": "execute_result"
    },
    {
     "data": {
      "image/png": "[encoded data removed]",
      "text/plain": [
       "<Figure size 432x288 with 1 Axes>"
      ]
     },
     "metadata": {
      "needs_background": "light"
     },
     "output_type": "display_data"
    }
   ],
   "source": [
    "sns.countplot(x=df.outcome_type)"
   ]
  },
  {
   "cell_type": "markdown",
   "metadata": {},
   "source": [
    "## Feature Variables"
   ]
  },
  {
   "cell_type": "code",
   "execution_count": 82,
   "metadata": {},
   "outputs": [],
   "source": [
    "def plotCat (df, col):\n",
    "    plt.figure(figsize=(14,5))\n",
    "    plt.suptitle(col, fontsize=20)\n",
    "    sns.countplot(x=df['outcome_type'], hue=df[col])"
   ]
  },
  {
   "cell_type": "code",
   "execution_count": 70,
   "metadata": {},
   "outputs": [],
   "source": [
    "def plotNum (df, col):\n",
    "    plt.figure(figsize=(14,5))\n",
    "    plt.suptitle(col, fontsize=20)\n",
    "    plt.subplot(1,2,1)\n",
    "    sns.boxplot(data=df, x='outcome_type', y=col)\n",
    "    plt.subplot(1,2,2)\n",
    "    sns.histplot(df[col].dropna(), bins=20)"
   ]
  },
  {
   "cell_type": "code",
   "execution_count": 71,
   "metadata": {},
   "outputs": [],
   "source": [
    "# change length_of_stay to float data type\n",
    "df.length_of_stay = df.length_of_stay.apply(pd.to_numeric)"
   ]
  },
  {
   "cell_type": "code",
   "execution_count": 72,
   "metadata": {},
   "outputs": [
    {
     "data": {
      "image/png": "[encoded data removed]",
      "text/plain": [
       "<Figure size 1008x360 with 2 Axes>"
      ]
     },
     "metadata": {
      "needs_background": "light"
     },
     "output_type": "display_data"
    }
   ],
   "source": [
    "plotNum(df, 'length_of_stay')"
   ]
  },
  {
   "cell_type": "code",
   "execution_count": 73,
   "metadata": {},
   "outputs": [
    {
     "data": {
      "text/plain": [
       "Black       16551\n",
       "Tabby       10259\n",
       "Brown        7312\n",
       "White        6479\n",
       "Calico       3084\n",
       "Blue         2950\n",
       "Red          2209\n",
       "Brindle      1944\n",
       "Tricolor     1476\n",
       "Orange       1436\n",
       "Point         914\n",
       "Gray          551\n",
       "Merle         548\n",
       "Other          58\n",
       "Name: color_intake, dtype: int64"
      ]
     },
     "execution_count": 73,
     "metadata": {},
     "output_type": "execute_result"
    }
   ],
   "source": [
    "# check number of values in color_intake\n",
    "df.color_intake.value_counts()"
   ]
  },
  {
   "cell_type": "code",
   "execution_count": 75,
   "metadata": {},
   "outputs": [
    {
     "data": {
      "text/plain": [
       "Black       16551\n",
       "Tabby       10259\n",
       "Brown        7312\n",
       "White        6479\n",
       "Calico       3084\n",
       "Blue         2950\n",
       "Red          2209\n",
       "Other        2071\n",
       "Brindle      1944\n",
       "Tricolor     1476\n",
       "Orange       1436\n",
       "Name: color_intake, dtype: int64"
      ]
     },
     "execution_count": 75,
     "metadata": {},
     "output_type": "execute_result"
    }
   ],
   "source": [
    "# bucket values less then 1,000 to Other to reduce number of values\n",
    "color_counts=df['color_intake'].value_counts()\n",
    "replace_color=color_counts.loc[color_counts<1000].index.tolist()\n",
    "for i in replace_color:\n",
    "    df.color_intake = df.color_intake.replace(i,\"Other\")\n",
    "\n",
    "df.color_intake.value_counts()"
   ]
  },
  {
   "cell_type": "code",
   "execution_count": 88,
   "metadata": {},
   "outputs": [
    {
     "data": {
      "image/png": "[encoded data removed]",
      "text/plain": [
       "<Figure size 1008x360 with 1 Axes>"
      ]
     },
     "metadata": {
      "needs_background": "light"
     },
     "output_type": "display_data"
    }
   ],
   "source": [
    "plotCat(df, 'color_intake')"
   ]
  },
  {
   "cell_type": "code",
   "execution_count": 84,
   "metadata": {},
   "outputs": [
    {
     "data": {
      "text/plain": [
       "Mix                 30352\n",
       "Bully Dogs           5304\n",
       "Chihuahua            4932\n",
       "Retriever Breeds     4832\n",
       "Herding Dogs         2640\n",
       "Other Dogs           2229\n",
       "Terrier Dogs         2196\n",
       "Small Dogs           1440\n",
       "Wildlife             1060\n",
       "Other Cats            610\n",
       "Other                 176\n",
       "Name: breed_type, dtype: int64"
      ]
     },
     "execution_count": 84,
     "metadata": {},
     "output_type": "execute_result"
    }
   ],
   "source": [
    "# check number of values in breed_type\n",
    "df.breed_type.value_counts()"
   ]
  },
  {
   "cell_type": "code",
   "execution_count": 85,
   "metadata": {},
   "outputs": [
    {
     "data": {
      "text/plain": [
       "Mix                 30352\n",
       "Bully Dogs           5304\n",
       "Chihuahua            4932\n",
       "Retriever Breeds     4832\n",
       "Herding Dogs         2640\n",
       "Other Dogs           2229\n",
       "Terrier Dogs         2196\n",
       "Small Dogs           1440\n",
       "Wildlife             1060\n",
       "Other Cats            610\n",
       "Other                 176\n",
       "Name: breed_type, dtype: int64"
      ]
     },
     "execution_count": 85,
     "metadata": {},
     "output_type": "execute_result"
    }
   ],
   "source": [
    "# bucket values less then 700 to Other to reduce number of values\n",
    "df.loc[(df.breed_type == 'Hound Dogs') | \n",
    "       (df.breed_type == 'Sporting Dogs') | \n",
    "       (df.breed_type == 'Husky Dogs') |\n",
    "       (df.breed_type == 'X Large Dogs') |\n",
    "       (df.breed_type == 'German Shepherd') |\n",
    "       (df.breed_type == 'Working Dogs'), 'breed_type'] = 'Other Dogs'\n",
    "df.loc[(df.breed_type == 'Domestic Shorthair Cat') |\n",
    "       (df.breed_type == 'Other Cat') |\n",
    "       (df.breed_type == 'Domestic Medium Hair Cat'), 'breed_type'] = 'Other Cats'\n",
    "df.breed_type.value_counts()"
   ]
  },
  {
   "cell_type": "code",
   "execution_count": 86,
   "metadata": {},
   "outputs": [
    {
     "data": {
      "image/png": "[encoded data removed]",
      "text/plain": [
       "<Figure size 1008x360 with 1 Axes>"
      ]
     },
     "metadata": {
      "needs_background": "light"
     },
     "output_type": "display_data"
    }
   ],
   "source": [
    "plotCat(df, 'breed_type')"
   ]
  },
  {
   "cell_type": "code",
   "execution_count": 89,
   "metadata": {},
   "outputs": [
    {
     "data": {
      "image/png": "[encoded data removed]",
      "text/plain": [
       "<Figure size 1008x360 with 1 Axes>"
      ]
     },
     "metadata": {
      "needs_background": "light"
     },
     "output_type": "display_data"
    }
   ],
   "source": [
    "plotCat(df, 'name_intake')"
   ]
  },
  {
   "cell_type": "code",
   "execution_count": 90,
   "metadata": {},
   "outputs": [
    {
     "data": {
      "image/png": "[encoded data removed]",
      "text/plain": [
       "<Figure size 1008x360 with 1 Axes>"
      ]
     },
     "metadata": {
      "needs_background": "light"
     },
     "output_type": "display_data"
    }
   ],
   "source": [
    "plotCat(df, 'intake_type')"
   ]
  },
  {
   "cell_type": "code",
   "execution_count": 91,
   "metadata": {},
   "outputs": [
    {
     "data": {
      "image/png": "[encoded data removed]",
      "text/plain": [
       "<Figure size 1008x360 with 1 Axes>"
      ]
     },
     "metadata": {
      "needs_background": "light"
     },
     "output_type": "display_data"
    }
   ],
   "source": [
    "plotCat(df, 'intake_condition')"
   ]
  },
  {
   "cell_type": "code",
   "execution_count": 92,
   "metadata": {},
   "outputs": [
    {
     "data": {
      "image/png": "[encoded data removed]",
      "text/plain": [
       "<Figure size 1008x360 with 1 Axes>"
      ]
     },
     "metadata": {
      "needs_background": "light"
     },
     "output_type": "display_data"
    }
   ],
   "source": [
    "plotCat(df, 'animal_type_intake')"
   ]
  },
  {
   "cell_type": "code",
   "execution_count": 93,
   "metadata": {},
   "outputs": [
    {
     "data": {
      "image/png": "[encoded data removed]",
      "text/plain": [
       "<Figure size 1008x360 with 1 Axes>"
      ]
     },
     "metadata": {
      "needs_background": "light"
     },
     "output_type": "display_data"
    }
   ],
   "source": [
    "plotCat(df, 'sex_intake')"
   ]
  },
  {
   "cell_type": "code",
   "execution_count": 94,
   "metadata": {},
   "outputs": [
    {
     "data": {
      "image/png": "[encoded data removed]",
      "text/plain": [
       "<Figure size 1008x360 with 1 Axes>"
      ]
     },
     "metadata": {
      "needs_background": "light"
     },
     "output_type": "display_data"
    }
   ],
   "source": [
    "plotCat(df, 'fixed_changed')"
   ]
  },
  {
   "cell_type": "code",
   "execution_count": 95,
   "metadata": {},
   "outputs": [
    {
     "data": {
      "image/png": "[encoded data removed]",
      "text/plain": [
       "<Figure size 1008x360 with 1 Axes>"
      ]
     },
     "metadata": {
      "needs_background": "light"
     },
     "output_type": "display_data"
    }
   ],
   "source": [
    "plotCat(df, 'age_bucket')"
   ]
  },
  {
   "cell_type": "code",
   "execution_count": 96,
   "metadata": {},
   "outputs": [
    {
     "data": {
      "text/html": [
       "<div>\n",
       "<style scoped>\n",
       "    .dataframe tbody tr th:only-of-type {\n",
       "        vertical-align: middle;\n",
       "    }\n",
       "\n",
       "    .dataframe tbody tr th {\n",
       "        vertical-align: top;\n",
       "    }\n",
       "\n",
       "    .dataframe thead th {\n",
       "        text-align: right;\n",
       "    }\n",
       "</style>\n",
       "<table border=\"1\" class=\"dataframe\">\n",
       "  <thead>\n",
       "    <tr style=\"text-align: right;\">\n",
       "      <th></th>\n",
       "      <th>name_intake</th>\n",
       "      <th>intake_type</th>\n",
       "      <th>intake_condition</th>\n",
       "      <th>animal_type_intake</th>\n",
       "      <th>sex_intake</th>\n",
       "      <th>color_intake</th>\n",
       "      <th>breed_type</th>\n",
       "      <th>outcome_type</th>\n",
       "      <th>fixed_changed</th>\n",
       "      <th>age_bucket</th>\n",
       "      <th>length_of_stay</th>\n",
       "    </tr>\n",
       "  </thead>\n",
       "  <tbody>\n",
       "    <tr>\n",
       "      <th>0</th>\n",
       "      <td>No</td>\n",
       "      <td>Stray</td>\n",
       "      <td>Normal</td>\n",
       "      <td>Cat</td>\n",
       "      <td>Intact Male</td>\n",
       "      <td>Tabby</td>\n",
       "      <td>Mix</td>\n",
       "      <td>Transfer</td>\n",
       "      <td>1</td>\n",
       "      <td>7-12 months</td>\n",
       "      <td>0.867361</td>\n",
       "    </tr>\n",
       "    <tr>\n",
       "      <th>1</th>\n",
       "      <td>Yes</td>\n",
       "      <td>Owner Surrender</td>\n",
       "      <td>Maternity</td>\n",
       "      <td>Dog</td>\n",
       "      <td>Intact Female</td>\n",
       "      <td>Brown</td>\n",
       "      <td>Herding Dogs</td>\n",
       "      <td>Adoption</td>\n",
       "      <td>1</td>\n",
       "      <td>1-6 weeks</td>\n",
       "      <td>115.961111</td>\n",
       "    </tr>\n",
       "    <tr>\n",
       "      <th>2</th>\n",
       "      <td>Yes</td>\n",
       "      <td>Stray</td>\n",
       "      <td>Normal</td>\n",
       "      <td>Dog</td>\n",
       "      <td>Intact Male</td>\n",
       "      <td>Brown</td>\n",
       "      <td>Bully Dogs</td>\n",
       "      <td>Return to Owner</td>\n",
       "      <td>1</td>\n",
       "      <td>1-6 months</td>\n",
       "      <td>3.411806</td>\n",
       "    </tr>\n",
       "    <tr>\n",
       "      <th>3</th>\n",
       "      <td>No</td>\n",
       "      <td>Stray</td>\n",
       "      <td>Normal</td>\n",
       "      <td>Dog</td>\n",
       "      <td>Intact Male</td>\n",
       "      <td>Brown</td>\n",
       "      <td>Other Dogs</td>\n",
       "      <td>Transfer</td>\n",
       "      <td>0</td>\n",
       "      <td>1-3 years</td>\n",
       "      <td>4.032639</td>\n",
       "    </tr>\n",
       "    <tr>\n",
       "      <th>4</th>\n",
       "      <td>Yes</td>\n",
       "      <td>Stray</td>\n",
       "      <td>Normal</td>\n",
       "      <td>Cat</td>\n",
       "      <td>Intact Male</td>\n",
       "      <td>Black</td>\n",
       "      <td>Mix</td>\n",
       "      <td>Transfer</td>\n",
       "      <td>1</td>\n",
       "      <td>1-6 months</td>\n",
       "      <td>24.924306</td>\n",
       "    </tr>\n",
       "  </tbody>\n",
       "</table>\n",
       "</div>"
      ],
      "text/plain": [
       "  name_intake      intake_type intake_condition animal_type_intake  \\\n",
       "0          No            Stray           Normal                Cat   \n",
       "1         Yes  Owner Surrender        Maternity                Dog   \n",
       "2         Yes            Stray           Normal                Dog   \n",
       "3          No            Stray           Normal                Dog   \n",
       "4         Yes            Stray           Normal                Cat   \n",
       "\n",
       "      sex_intake color_intake    breed_type     outcome_type fixed_changed  \\\n",
       "0    Intact Male        Tabby           Mix         Transfer             1   \n",
       "1  Intact Female        Brown  Herding Dogs         Adoption             1   \n",
       "2    Intact Male        Brown    Bully Dogs  Return to Owner             1   \n",
       "3    Intact Male        Brown    Other Dogs         Transfer             0   \n",
       "4    Intact Male        Black           Mix         Transfer             1   \n",
       "\n",
       "    age_bucket  length_of_stay  \n",
       "0  7-12 months        0.867361  \n",
       "1    1-6 weeks      115.961111  \n",
       "2   1-6 months        3.411806  \n",
       "3    1-3 years        4.032639  \n",
       "4   1-6 months       24.924306  "
      ]
     },
     "execution_count": 96,
     "metadata": {},
     "output_type": "execute_result"
    }
   ],
   "source": [
    "# Drop unnecessary columns and columns with large number of unique values\n",
    "df.drop(columns=['animal_id','found_location','datetime_intake','datetime_outcome', 'sex_upon_outcome'], axis=1, inplace=True)\n",
    "df.head()"
   ]
  },
  {
   "cell_type": "markdown",
   "metadata": {},
   "source": [
    "## Label Encoding"
   ]
  },
  {
   "cell_type": "code",
   "execution_count": 97,
   "metadata": {},
   "outputs": [],
   "source": [
    "# encode text columns with dummy values\n",
    "df_encoded = pd.get_dummies(df, columns=['name_intake',\n",
    "                                         'intake_type',\n",
    "                                         'intake_condition',\n",
    "                                         'animal_type_intake',\n",
    "                                         'color_intake',\n",
    "                                         'sex_intake',\n",
    "                                         'age_bucket',\n",
    "                                         'breed_type'])"
   ]
  },
  {
   "cell_type": "code",
   "execution_count": 98,
   "metadata": {},
   "outputs": [
    {
     "name": "stdout",
     "output_type": "stream",
     "text": [
      "{'Adoption': 0, 'Died': 1, 'Return to Owner': 2, 'Transfer': 3}\n"
     ]
    }
   ],
   "source": [
    "# encode target \n",
    "le = LabelEncoder()\n",
    "df_encoded['outcome_type'] = le.fit_transform(df_encoded['outcome_type'])\n",
    "le_name_mapping = dict(zip(le.classes_, le.transform(le.classes_)))\n",
    "print(le_name_mapping)"
   ]
  },
  {
   "cell_type": "code",
   "execution_count": 99,
   "metadata": {},
   "outputs": [
    {
     "data": {
      "text/html": [
       "<div>\n",
       "<style scoped>\n",
       "    .dataframe tbody tr th:only-of-type {\n",
       "        vertical-align: middle;\n",
       "    }\n",
       "\n",
       "    .dataframe tbody tr th {\n",
       "        vertical-align: top;\n",
       "    }\n",
       "\n",
       "    .dataframe thead th {\n",
       "        text-align: right;\n",
       "    }\n",
       "</style>\n",
       "<table border=\"1\" class=\"dataframe\">\n",
       "  <thead>\n",
       "    <tr style=\"text-align: right;\">\n",
       "      <th></th>\n",
       "      <th>outcome_type</th>\n",
       "      <th>fixed_changed</th>\n",
       "      <th>length_of_stay</th>\n",
       "      <th>name_intake_No</th>\n",
       "      <th>name_intake_Yes</th>\n",
       "      <th>intake_type_Euthanasia Request</th>\n",
       "      <th>intake_type_Owner Surrender</th>\n",
       "      <th>intake_type_Public Assist</th>\n",
       "      <th>intake_type_Stray</th>\n",
       "      <th>intake_type_Wildlife</th>\n",
       "      <th>...</th>\n",
       "      <th>breed_type_Chihuahua</th>\n",
       "      <th>breed_type_Herding Dogs</th>\n",
       "      <th>breed_type_Mix</th>\n",
       "      <th>breed_type_Other</th>\n",
       "      <th>breed_type_Other Cats</th>\n",
       "      <th>breed_type_Other Dogs</th>\n",
       "      <th>breed_type_Retriever Breeds</th>\n",
       "      <th>breed_type_Small Dogs</th>\n",
       "      <th>breed_type_Terrier Dogs</th>\n",
       "      <th>breed_type_Wildlife</th>\n",
       "    </tr>\n",
       "  </thead>\n",
       "  <tbody>\n",
       "    <tr>\n",
       "      <th>0</th>\n",
       "      <td>3</td>\n",
       "      <td>1</td>\n",
       "      <td>0.867361</td>\n",
       "      <td>1</td>\n",
       "      <td>0</td>\n",
       "      <td>0</td>\n",
       "      <td>0</td>\n",
       "      <td>0</td>\n",
       "      <td>1</td>\n",
       "      <td>0</td>\n",
       "      <td>...</td>\n",
       "      <td>0</td>\n",
       "      <td>0</td>\n",
       "      <td>1</td>\n",
       "      <td>0</td>\n",
       "      <td>0</td>\n",
       "      <td>0</td>\n",
       "      <td>0</td>\n",
       "      <td>0</td>\n",
       "      <td>0</td>\n",
       "      <td>0</td>\n",
       "    </tr>\n",
       "    <tr>\n",
       "      <th>1</th>\n",
       "      <td>0</td>\n",
       "      <td>1</td>\n",
       "      <td>115.961111</td>\n",
       "      <td>0</td>\n",
       "      <td>1</td>\n",
       "      <td>0</td>\n",
       "      <td>1</td>\n",
       "      <td>0</td>\n",
       "      <td>0</td>\n",
       "      <td>0</td>\n",
       "      <td>...</td>\n",
       "      <td>0</td>\n",
       "      <td>1</td>\n",
       "      <td>0</td>\n",
       "      <td>0</td>\n",
       "      <td>0</td>\n",
       "      <td>0</td>\n",
       "      <td>0</td>\n",
       "      <td>0</td>\n",
       "      <td>0</td>\n",
       "      <td>0</td>\n",
       "    </tr>\n",
       "    <tr>\n",
       "      <th>2</th>\n",
       "      <td>2</td>\n",
       "      <td>1</td>\n",
       "      <td>3.411806</td>\n",
       "      <td>0</td>\n",
       "      <td>1</td>\n",
       "      <td>0</td>\n",
       "      <td>0</td>\n",
       "      <td>0</td>\n",
       "      <td>1</td>\n",
       "      <td>0</td>\n",
       "      <td>...</td>\n",
       "      <td>0</td>\n",
       "      <td>0</td>\n",
       "      <td>0</td>\n",
       "      <td>0</td>\n",
       "      <td>0</td>\n",
       "      <td>0</td>\n",
       "      <td>0</td>\n",
       "      <td>0</td>\n",
       "      <td>0</td>\n",
       "      <td>0</td>\n",
       "    </tr>\n",
       "    <tr>\n",
       "      <th>3</th>\n",
       "      <td>3</td>\n",
       "      <td>0</td>\n",
       "      <td>4.032639</td>\n",
       "      <td>1</td>\n",
       "      <td>0</td>\n",
       "      <td>0</td>\n",
       "      <td>0</td>\n",
       "      <td>0</td>\n",
       "      <td>1</td>\n",
       "      <td>0</td>\n",
       "      <td>...</td>\n",
       "      <td>0</td>\n",
       "      <td>0</td>\n",
       "      <td>0</td>\n",
       "      <td>0</td>\n",
       "      <td>0</td>\n",
       "      <td>1</td>\n",
       "      <td>0</td>\n",
       "      <td>0</td>\n",
       "      <td>0</td>\n",
       "      <td>0</td>\n",
       "    </tr>\n",
       "    <tr>\n",
       "      <th>4</th>\n",
       "      <td>3</td>\n",
       "      <td>1</td>\n",
       "      <td>24.924306</td>\n",
       "      <td>0</td>\n",
       "      <td>1</td>\n",
       "      <td>0</td>\n",
       "      <td>0</td>\n",
       "      <td>0</td>\n",
       "      <td>1</td>\n",
       "      <td>0</td>\n",
       "      <td>...</td>\n",
       "      <td>0</td>\n",
       "      <td>0</td>\n",
       "      <td>1</td>\n",
       "      <td>0</td>\n",
       "      <td>0</td>\n",
       "      <td>0</td>\n",
       "      <td>0</td>\n",
       "      <td>0</td>\n",
       "      <td>0</td>\n",
       "      <td>0</td>\n",
       "    </tr>\n",
       "  </tbody>\n",
       "</table>\n",
       "<p>5 rows × 54 columns</p>\n",
       "</div>"
      ],
      "text/plain": [
       "   outcome_type fixed_changed  length_of_stay  name_intake_No  \\\n",
       "0             3             1        0.867361               1   \n",
       "1             0             1      115.961111               0   \n",
       "2             2             1        3.411806               0   \n",
       "3             3             0        4.032639               1   \n",
       "4             3             1       24.924306               0   \n",
       "\n",
       "   name_intake_Yes  intake_type_Euthanasia Request  \\\n",
       "0                0                               0   \n",
       "1                1                               0   \n",
       "2                1                               0   \n",
       "3                0                               0   \n",
       "4                1                               0   \n",
       "\n",
       "   intake_type_Owner Surrender  intake_type_Public Assist  intake_type_Stray  \\\n",
       "0                            0                          0                  1   \n",
       "1                            1                          0                  0   \n",
       "2                            0                          0                  1   \n",
       "3                            0                          0                  1   \n",
       "4                            0                          0                  1   \n",
       "\n",
       "   intake_type_Wildlife  ...  breed_type_Chihuahua  breed_type_Herding Dogs  \\\n",
       "0                     0  ...                     0                        0   \n",
       "1                     0  ...                     0                        1   \n",
       "2                     0  ...                     0                        0   \n",
       "3                     0  ...                     0                        0   \n",
       "4                     0  ...                     0                        0   \n",
       "\n",
       "   breed_type_Mix  breed_type_Other  breed_type_Other Cats  \\\n",
       "0               1                 0                      0   \n",
       "1               0                 0                      0   \n",
       "2               0                 0                      0   \n",
       "3               0                 0                      0   \n",
       "4               1                 0                      0   \n",
       "\n",
       "   breed_type_Other Dogs  breed_type_Retriever Breeds  breed_type_Small Dogs  \\\n",
       "0                      0                            0                      0   \n",
       "1                      0                            0                      0   \n",
       "2                      0                            0                      0   \n",
       "3                      1                            0                      0   \n",
       "4                      0                            0                      0   \n",
       "\n",
       "   breed_type_Terrier Dogs  breed_type_Wildlife  \n",
       "0                        0                    0  \n",
       "1                        0                    0  \n",
       "2                        0                    0  \n",
       "3                        0                    0  \n",
       "4                        0                    0  \n",
       "\n",
       "[5 rows x 54 columns]"
      ]
     },
     "execution_count": 99,
     "metadata": {},
     "output_type": "execute_result"
    }
   ],
   "source": [
    "df_encoded.head()"
   ]
  },
  {
   "cell_type": "markdown",
   "metadata": {},
   "source": [
    "## Train Test Split"
   ]
  },
  {
   "cell_type": "code",
   "execution_count": 100,
   "metadata": {},
   "outputs": [],
   "source": [
    "# Define the features set.\n",
    "X=df_encoded.drop('outcome_type',axis=1)"
   ]
  },
  {
   "cell_type": "code",
   "execution_count": 101,
   "metadata": {},
   "outputs": [],
   "source": [
    "# Define the target set.\n",
    "y = df_encoded[\"outcome_type\"].ravel()"
   ]
  },
  {
   "cell_type": "code",
   "execution_count": 102,
   "metadata": {},
   "outputs": [],
   "source": [
    "# Splitting into Train and Test sets.\n",
    "X_train, X_test, y_train, y_test = train_test_split(X, y, random_state=78)"
   ]
  },
  {
   "cell_type": "markdown",
   "metadata": {},
   "source": [
    "## Scaling Data"
   ]
  },
  {
   "cell_type": "code",
   "execution_count": 103,
   "metadata": {},
   "outputs": [],
   "source": [
    "# Creating a StandardScaler instance.\n",
    "scaler = StandardScaler()\n",
    "# Fitting the Standard Scaler with the training data.\n",
    "X_scaler = scaler.fit(X_train)\n",
    "\n",
    "# Scaling the data.\n",
    "X_train_scaled = X_scaler.transform(X_train)\n",
    "X_test_scaled = X_scaler.transform(X_test)"
   ]
  },
  {
   "cell_type": "markdown",
   "metadata": {},
   "source": [
    "## Resampling"
   ]
  },
  {
   "cell_type": "code",
   "execution_count": 104,
   "metadata": {},
   "outputs": [],
   "source": [
    "from imblearn.combine import SMOTEENN\n",
    "smote_enn = SMOTEENN(random_state=0)\n",
    "X_resampled, y_resampled = smote_enn.fit_resample(X_train_scaled, y_train)"
   ]
  },
  {
   "cell_type": "markdown",
   "metadata": {},
   "source": [
    "# Machine Learning Models"
   ]
  },
  {
   "cell_type": "markdown",
   "metadata": {},
   "source": [
    "## Random Forest Classification"
   ]
  },
  {
   "cell_type": "code",
   "execution_count": 105,
   "metadata": {},
   "outputs": [],
   "source": [
    "# initialize model, fit and predict\n",
    "rf_model = RandomForestClassifier(n_estimators=128) \n",
    "rf_model = rf_model.fit(X_resampled, y_resampled)\n",
    "rf_pred = rf_model.predict(X_test_scaled)"
   ]
  },
  {
   "cell_type": "code",
   "execution_count": 106,
   "metadata": {},
   "outputs": [
    {
     "data": {
      "text/html": [
       "<div>\n",
       "<style scoped>\n",
       "    .dataframe tbody tr th:only-of-type {\n",
       "        vertical-align: middle;\n",
       "    }\n",
       "\n",
       "    .dataframe tbody tr th {\n",
       "        vertical-align: top;\n",
       "    }\n",
       "\n",
       "    .dataframe thead th {\n",
       "        text-align: right;\n",
       "    }\n",
       "</style>\n",
       "<table border=\"1\" class=\"dataframe\">\n",
       "  <thead>\n",
       "    <tr style=\"text-align: right;\">\n",
       "      <th></th>\n",
       "      <th>Prediction</th>\n",
       "      <th>Actual</th>\n",
       "    </tr>\n",
       "  </thead>\n",
       "  <tbody>\n",
       "    <tr>\n",
       "      <th>0</th>\n",
       "      <td>0</td>\n",
       "      <td>0</td>\n",
       "    </tr>\n",
       "    <tr>\n",
       "      <th>1</th>\n",
       "      <td>1</td>\n",
       "      <td>1</td>\n",
       "    </tr>\n",
       "    <tr>\n",
       "      <th>2</th>\n",
       "      <td>0</td>\n",
       "      <td>0</td>\n",
       "    </tr>\n",
       "    <tr>\n",
       "      <th>3</th>\n",
       "      <td>1</td>\n",
       "      <td>1</td>\n",
       "    </tr>\n",
       "    <tr>\n",
       "      <th>4</th>\n",
       "      <td>2</td>\n",
       "      <td>0</td>\n",
       "    </tr>\n",
       "  </tbody>\n",
       "</table>\n",
       "</div>"
      ],
      "text/plain": [
       "   Prediction  Actual\n",
       "0           0       0\n",
       "1           1       1\n",
       "2           0       0\n",
       "3           1       1\n",
       "4           2       0"
      ]
     },
     "execution_count": 106,
     "metadata": {},
     "output_type": "execute_result"
    }
   ],
   "source": [
    "# View Results\n",
    "results = pd.DataFrame({\n",
    "   \"Prediction\": rf_pred,\n",
    "   \"Actual\": y_test\n",
    "}).reset_index(drop=True)\n",
    "results.head()"
   ]
  },
  {
   "cell_type": "code",
   "execution_count": 108,
   "metadata": {},
   "outputs": [
    {
     "data": {
      "text/html": [
       "<div>\n",
       "<style scoped>\n",
       "    .dataframe tbody tr th:only-of-type {\n",
       "        vertical-align: middle;\n",
       "    }\n",
       "\n",
       "    .dataframe tbody tr th {\n",
       "        vertical-align: top;\n",
       "    }\n",
       "\n",
       "    .dataframe thead th {\n",
       "        text-align: right;\n",
       "    }\n",
       "</style>\n",
       "<table border=\"1\" class=\"dataframe\">\n",
       "  <thead>\n",
       "    <tr style=\"text-align: right;\">\n",
       "      <th></th>\n",
       "      <th>Adoption</th>\n",
       "      <th>Died</th>\n",
       "      <th>Return to Owner</th>\n",
       "      <th>Transfer</th>\n",
       "    </tr>\n",
       "  </thead>\n",
       "  <tbody>\n",
       "    <tr>\n",
       "      <th>Adoption</th>\n",
       "      <td>4433</td>\n",
       "      <td>46</td>\n",
       "      <td>235</td>\n",
       "      <td>981</td>\n",
       "    </tr>\n",
       "    <tr>\n",
       "      <th>Died</th>\n",
       "      <td>169</td>\n",
       "      <td>1098</td>\n",
       "      <td>80</td>\n",
       "      <td>331</td>\n",
       "    </tr>\n",
       "    <tr>\n",
       "      <th>Return to Owner</th>\n",
       "      <td>456</td>\n",
       "      <td>74</td>\n",
       "      <td>1934</td>\n",
       "      <td>320</td>\n",
       "    </tr>\n",
       "    <tr>\n",
       "      <th>Transfer</th>\n",
       "      <td>481</td>\n",
       "      <td>212</td>\n",
       "      <td>110</td>\n",
       "      <td>2983</td>\n",
       "    </tr>\n",
       "  </tbody>\n",
       "</table>\n",
       "</div>"
      ],
      "text/plain": [
       "                 Adoption  Died  Return to Owner  Transfer\n",
       "Adoption             4433    46              235       981\n",
       "Died                  169  1098               80       331\n",
       "Return to Owner       456    74             1934       320\n",
       "Transfer              481   212              110      2983"
      ]
     },
     "execution_count": 108,
     "metadata": {},
     "output_type": "execute_result"
    }
   ],
   "source": [
    "# print confusion matrix\n",
    "cm = confusion_matrix(rf_pred, y_test)\n",
    "cm_df = pd.DataFrame(cm,\n",
    "                     index = ['Adoption', 'Died', 'Return to Owner','Transfer'], \n",
    "                     columns = ['Adoption', 'Died', 'Return to Owner','Transfer'])\n",
    "cm_df"
   ]
  },
  {
   "cell_type": "code",
   "execution_count": 109,
   "metadata": {},
   "outputs": [
    {
     "name": "stdout",
     "output_type": "stream",
     "text": [
      "                 precision    recall  f1-score   support\n",
      "\n",
      "       Adoption       0.80      0.78      0.79      5695\n",
      "           Died       0.77      0.65      0.71      1678\n",
      "Return to Owner       0.82      0.69      0.75      2784\n",
      "       Transfer       0.65      0.79      0.71      3786\n",
      "\n",
      "       accuracy                           0.75     13943\n",
      "      macro avg       0.76      0.73      0.74     13943\n",
      "   weighted avg       0.76      0.75      0.75     13943\n",
      "\n"
     ]
    }
   ],
   "source": [
    "# print classification report\n",
    "print(classification_report(rf_pred, y_test, target_names=['Adoption', 'Died', 'Return to Owner','Transfer']))"
   ]
  },
  {
   "cell_type": "code",
   "execution_count": 110,
   "metadata": {},
   "outputs": [
    {
     "data": {
      "text/plain": [
       "<AxesSubplot:title={'center':'Feature Importance'}>"
      ]
     },
     "execution_count": 110,
     "metadata": {},
     "output_type": "execute_result"
    },
    {
     "data": {
      "image/png": "[encoded data removed]",
      "text/plain": [
       "<Figure size 864x360 with 1 Axes>"
      ]
     },
     "metadata": {
      "needs_background": "light"
     },
     "output_type": "display_data"
    }
   ],
   "source": [
    "# show feature importance\n",
    "feat_imp = pd.Series(rf_model.feature_importances_, index=X.columns)\n",
    "feat_imp.nlargest(10).plot(kind='bar', figsize=(12,5), cmap='Dark2', edgecolor='black', title='Feature Importance')\n",
    "# plt.xticks(rotation=65)"
   ]
  },
  {
   "cell_type": "markdown",
   "metadata": {},
   "source": [
    "# Gradient Boosting Classification"
   ]
  },
  {
   "cell_type": "code",
   "execution_count": 111,
   "metadata": {},
   "outputs": [],
   "source": [
    "# initialize model, fit and predict\n",
    "gb_model = GradientBoostingClassifier(n_estimators=20,\n",
    "   learning_rate=0.5, max_features=5, max_depth=3)\n",
    "gb_model.fit(X_resampled, y_resampled)\n",
    "gb_pred = gb_model.predict(X_test_scaled)"
   ]
  },
  {
   "cell_type": "code",
   "execution_count": 112,
   "metadata": {},
   "outputs": [
    {
     "data": {
      "text/html": [
       "<div>\n",
       "<style scoped>\n",
       "    .dataframe tbody tr th:only-of-type {\n",
       "        vertical-align: middle;\n",
       "    }\n",
       "\n",
       "    .dataframe tbody tr th {\n",
       "        vertical-align: top;\n",
       "    }\n",
       "\n",
       "    .dataframe thead th {\n",
       "        text-align: right;\n",
       "    }\n",
       "</style>\n",
       "<table border=\"1\" class=\"dataframe\">\n",
       "  <thead>\n",
       "    <tr style=\"text-align: right;\">\n",
       "      <th></th>\n",
       "      <th>Prediction</th>\n",
       "      <th>Actual</th>\n",
       "    </tr>\n",
       "  </thead>\n",
       "  <tbody>\n",
       "    <tr>\n",
       "      <th>0</th>\n",
       "      <td>0</td>\n",
       "      <td>0</td>\n",
       "    </tr>\n",
       "    <tr>\n",
       "      <th>1</th>\n",
       "      <td>1</td>\n",
       "      <td>1</td>\n",
       "    </tr>\n",
       "    <tr>\n",
       "      <th>2</th>\n",
       "      <td>0</td>\n",
       "      <td>0</td>\n",
       "    </tr>\n",
       "    <tr>\n",
       "      <th>3</th>\n",
       "      <td>1</td>\n",
       "      <td>1</td>\n",
       "    </tr>\n",
       "    <tr>\n",
       "      <th>4</th>\n",
       "      <td>2</td>\n",
       "      <td>0</td>\n",
       "    </tr>\n",
       "  </tbody>\n",
       "</table>\n",
       "</div>"
      ],
      "text/plain": [
       "   Prediction  Actual\n",
       "0           0       0\n",
       "1           1       1\n",
       "2           0       0\n",
       "3           1       1\n",
       "4           2       0"
      ]
     },
     "execution_count": 112,
     "metadata": {},
     "output_type": "execute_result"
    }
   ],
   "source": [
    "# View Results\n",
    "results = pd.DataFrame({\n",
    "   \"Prediction\": gb_pred,\n",
    "   \"Actual\": y_test\n",
    "}).reset_index(drop=True)\n",
    "results.head()"
   ]
  },
  {
   "cell_type": "code",
   "execution_count": 113,
   "metadata": {},
   "outputs": [
    {
     "data": {
      "text/html": [
       "<div>\n",
       "<style scoped>\n",
       "    .dataframe tbody tr th:only-of-type {\n",
       "        vertical-align: middle;\n",
       "    }\n",
       "\n",
       "    .dataframe tbody tr th {\n",
       "        vertical-align: top;\n",
       "    }\n",
       "\n",
       "    .dataframe thead th {\n",
       "        text-align: right;\n",
       "    }\n",
       "</style>\n",
       "<table border=\"1\" class=\"dataframe\">\n",
       "  <thead>\n",
       "    <tr style=\"text-align: right;\">\n",
       "      <th></th>\n",
       "      <th>Adoption</th>\n",
       "      <th>Died</th>\n",
       "      <th>Return to Owner</th>\n",
       "      <th>Transfer</th>\n",
       "    </tr>\n",
       "  </thead>\n",
       "  <tbody>\n",
       "    <tr>\n",
       "      <th>Adoption</th>\n",
       "      <td>4336</td>\n",
       "      <td>45</td>\n",
       "      <td>175</td>\n",
       "      <td>957</td>\n",
       "    </tr>\n",
       "    <tr>\n",
       "      <th>Died</th>\n",
       "      <td>190</td>\n",
       "      <td>1073</td>\n",
       "      <td>75</td>\n",
       "      <td>420</td>\n",
       "    </tr>\n",
       "    <tr>\n",
       "      <th>Return to Owner</th>\n",
       "      <td>599</td>\n",
       "      <td>83</td>\n",
       "      <td>1988</td>\n",
       "      <td>492</td>\n",
       "    </tr>\n",
       "    <tr>\n",
       "      <th>Transfer</th>\n",
       "      <td>414</td>\n",
       "      <td>229</td>\n",
       "      <td>121</td>\n",
       "      <td>2746</td>\n",
       "    </tr>\n",
       "  </tbody>\n",
       "</table>\n",
       "</div>"
      ],
      "text/plain": [
       "                 Adoption  Died  Return to Owner  Transfer\n",
       "Adoption             4336    45              175       957\n",
       "Died                  190  1073               75       420\n",
       "Return to Owner       599    83             1988       492\n",
       "Transfer              414   229              121      2746"
      ]
     },
     "execution_count": 113,
     "metadata": {},
     "output_type": "execute_result"
    }
   ],
   "source": [
    "# print confusion matrix\n",
    "cm = confusion_matrix(gb_pred, y_test)\n",
    "cm_df = pd.DataFrame(cm,\n",
    "                     index = ['Adoption', 'Died', 'Return to Owner','Transfer'], \n",
    "                     columns = ['Adoption', 'Died', 'Return to Owner','Transfer'])\n",
    "cm_df"
   ]
  },
  {
   "cell_type": "code",
   "execution_count": 114,
   "metadata": {},
   "outputs": [
    {
     "name": "stdout",
     "output_type": "stream",
     "text": [
      "                 precision    recall  f1-score   support\n",
      "\n",
      "       Adoption       0.78      0.79      0.78      5513\n",
      "           Died       0.75      0.61      0.67      1758\n",
      "Return to Owner       0.84      0.63      0.72      3162\n",
      "       Transfer       0.60      0.78      0.68      3510\n",
      "\n",
      "       accuracy                           0.73     13943\n",
      "      macro avg       0.74      0.70      0.71     13943\n",
      "   weighted avg       0.75      0.73      0.73     13943\n",
      "\n"
     ]
    }
   ],
   "source": [
    "# print classification report\n",
    "print(classification_report(gb_pred, y_test, target_names=['Adoption', 'Died', 'Return to Owner','Transfer']))"
   ]
  },
  {
   "cell_type": "code",
   "execution_count": 115,
   "metadata": {},
   "outputs": [
    {
     "data": {
      "text/plain": [
       "<AxesSubplot:title={'center':'Feature Importance'}>"
      ]
     },
     "execution_count": 115,
     "metadata": {},
     "output_type": "execute_result"
    },
    {
     "data": {
      "image/png": "[encoded data removed]",
      "text/plain": [
       "<Figure size 864x360 with 1 Axes>"
      ]
     },
     "metadata": {
      "needs_background": "light"
     },
     "output_type": "display_data"
    }
   ],
   "source": [
    "# show feature importance\n",
    "feat_imp = pd.Series(rf_model.feature_importances_, index=X.columns)\n",
    "feat_imp.nlargest(10).plot(kind='bar', figsize=(12,5), cmap='Dark2', edgecolor='black', title='Feature Importance')\n",
    "# plt.xticks(rotation=65)"
   ]
  },
  {
   "cell_type": "markdown",
   "metadata": {},
   "source": [
    "## KNeighbors Classification"
   ]
  },
  {
   "cell_type": "code",
   "execution_count": 116,
   "metadata": {},
   "outputs": [],
   "source": [
    "# initialize model, fit and predict\n",
    "k_model = KNeighborsClassifier(n_neighbors=10)\n",
    "k_model.fit(X_resampled, y_resampled)\n",
    "k_pred = k_model.predict(X_test_scaled)"
   ]
  },
  {
   "cell_type": "code",
   "execution_count": 118,
   "metadata": {},
   "outputs": [
    {
     "data": {
      "text/html": [
       "<div>\n",
       "<style scoped>\n",
       "    .dataframe tbody tr th:only-of-type {\n",
       "        vertical-align: middle;\n",
       "    }\n",
       "\n",
       "    .dataframe tbody tr th {\n",
       "        vertical-align: top;\n",
       "    }\n",
       "\n",
       "    .dataframe thead th {\n",
       "        text-align: right;\n",
       "    }\n",
       "</style>\n",
       "<table border=\"1\" class=\"dataframe\">\n",
       "  <thead>\n",
       "    <tr style=\"text-align: right;\">\n",
       "      <th></th>\n",
       "      <th>Prediction</th>\n",
       "      <th>Actual</th>\n",
       "    </tr>\n",
       "  </thead>\n",
       "  <tbody>\n",
       "    <tr>\n",
       "      <th>0</th>\n",
       "      <td>0</td>\n",
       "      <td>0</td>\n",
       "    </tr>\n",
       "    <tr>\n",
       "      <th>1</th>\n",
       "      <td>1</td>\n",
       "      <td>1</td>\n",
       "    </tr>\n",
       "    <tr>\n",
       "      <th>2</th>\n",
       "      <td>0</td>\n",
       "      <td>0</td>\n",
       "    </tr>\n",
       "    <tr>\n",
       "      <th>3</th>\n",
       "      <td>1</td>\n",
       "      <td>1</td>\n",
       "    </tr>\n",
       "    <tr>\n",
       "      <th>4</th>\n",
       "      <td>2</td>\n",
       "      <td>0</td>\n",
       "    </tr>\n",
       "  </tbody>\n",
       "</table>\n",
       "</div>"
      ],
      "text/plain": [
       "   Prediction  Actual\n",
       "0           0       0\n",
       "1           1       1\n",
       "2           0       0\n",
       "3           1       1\n",
       "4           2       0"
      ]
     },
     "execution_count": 118,
     "metadata": {},
     "output_type": "execute_result"
    }
   ],
   "source": [
    "# View Results\n",
    "results = pd.DataFrame({\n",
    "   \"Prediction\": k_pred,\n",
    "   \"Actual\": y_test\n",
    "}).reset_index(drop=True)\n",
    "results.head()"
   ]
  },
  {
   "cell_type": "code",
   "execution_count": 117,
   "metadata": {},
   "outputs": [
    {
     "data": {
      "text/html": [
       "<div>\n",
       "<style scoped>\n",
       "    .dataframe tbody tr th:only-of-type {\n",
       "        vertical-align: middle;\n",
       "    }\n",
       "\n",
       "    .dataframe tbody tr th {\n",
       "        vertical-align: top;\n",
       "    }\n",
       "\n",
       "    .dataframe thead th {\n",
       "        text-align: right;\n",
       "    }\n",
       "</style>\n",
       "<table border=\"1\" class=\"dataframe\">\n",
       "  <thead>\n",
       "    <tr style=\"text-align: right;\">\n",
       "      <th></th>\n",
       "      <th>Adoption</th>\n",
       "      <th>Died</th>\n",
       "      <th>Return to Owner</th>\n",
       "      <th>Transfer</th>\n",
       "    </tr>\n",
       "  </thead>\n",
       "  <tbody>\n",
       "    <tr>\n",
       "      <th>Adoption</th>\n",
       "      <td>3620</td>\n",
       "      <td>62</td>\n",
       "      <td>259</td>\n",
       "      <td>978</td>\n",
       "    </tr>\n",
       "    <tr>\n",
       "      <th>Died</th>\n",
       "      <td>218</td>\n",
       "      <td>1068</td>\n",
       "      <td>106</td>\n",
       "      <td>364</td>\n",
       "    </tr>\n",
       "    <tr>\n",
       "      <th>Return to Owner</th>\n",
       "      <td>1294</td>\n",
       "      <td>148</td>\n",
       "      <td>1921</td>\n",
       "      <td>821</td>\n",
       "    </tr>\n",
       "    <tr>\n",
       "      <th>Transfer</th>\n",
       "      <td>407</td>\n",
       "      <td>152</td>\n",
       "      <td>73</td>\n",
       "      <td>2452</td>\n",
       "    </tr>\n",
       "  </tbody>\n",
       "</table>\n",
       "</div>"
      ],
      "text/plain": [
       "                 Adoption  Died  Return to Owner  Transfer\n",
       "Adoption             3620    62              259       978\n",
       "Died                  218  1068              106       364\n",
       "Return to Owner      1294   148             1921       821\n",
       "Transfer              407   152               73      2452"
      ]
     },
     "execution_count": 117,
     "metadata": {},
     "output_type": "execute_result"
    }
   ],
   "source": [
    "# print confusion matrix\n",
    "cm = confusion_matrix(k_pred, y_test)\n",
    "cm_df = pd.DataFrame(cm,\n",
    "                     index = ['Adoption', 'Died', 'Return to Owner','Transfer'], \n",
    "                     columns = ['Adoption', 'Died', 'Return to Owner','Transfer'])\n",
    "cm_df"
   ]
  },
  {
   "cell_type": "code",
   "execution_count": 119,
   "metadata": {},
   "outputs": [
    {
     "name": "stdout",
     "output_type": "stream",
     "text": [
      "                 precision    recall  f1-score   support\n",
      "\n",
      "       Adoption       0.65      0.74      0.69      4919\n",
      "           Died       0.75      0.61      0.67      1756\n",
      "Return to Owner       0.81      0.46      0.59      4184\n",
      "       Transfer       0.53      0.80      0.64      3084\n",
      "\n",
      "       accuracy                           0.65     13943\n",
      "      macro avg       0.69      0.65      0.65     13943\n",
      "   weighted avg       0.69      0.65      0.65     13943\n",
      "\n"
     ]
    }
   ],
   "source": [
    "# print classification report\n",
    "print(classification_report(k_pred, y_test, target_names=['Adoption', 'Died', 'Return to Owner','Transfer']))"
   ]
  },
  {
   "cell_type": "code",
   "execution_count": null,
   "metadata": {},
   "outputs": [],
   "source": []
  }
 ],
 "metadata": {
  "kernelspec": {
   "display_name": "mlenv",
   "language": "python",
   "name": "mlenv"
  },
  "language_info": {
   "codemirror_mode": {
    "name": "ipython",
    "version": 3
   },
   "file_extension": ".py",
   "mimetype": "text/x-python",
   "name": "python",
   "nbconvert_exporter": "python",
   "pygments_lexer": "ipython3",
   "version": "3.7.10"
  }
 },
 "nbformat": 4,
 "nbformat_minor": 4
}
